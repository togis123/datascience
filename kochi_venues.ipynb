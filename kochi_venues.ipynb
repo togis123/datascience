{
    "cells": [
        {
            "cell_type": "code",
            "execution_count": 51,
            "metadata": {},
            "outputs": [
                {
                    "name": "stdout",
                    "output_type": "stream",
                    "text": "Project name is [{'name': 'Geospatial_Coordinates.csv', 'asset_id': 'ec985893-9010-4b9e-a9c7-c58d4bd0ac0d'}]\n"
                }
            ],
            "source": "# The code was removed by Watson Studio for sharing."
        },
        {
            "cell_type": "markdown",
            "metadata": {},
            "source": "# The Battle of Neighborhood: Clustering Localities in Kochi City\n\n## 1. INTRODUCTION\n\n    Most of the people around the world loves travelling and travellers loves to explore new food varities when they visit new places. Providing highly rated restaurant with price range helps travellers to make good planning on their budget as well pick the venues based on it. By using machine learning techniques we are providing quick glance to the traveler about the venue and highly rated restaurant with affordable price range in that area. \n    Also this projects aims at business people who likes to open restaurant in a city based on the cluster of different category of restaurant and demand.\n    \n## 2. Data\n    \n     In this project we are analysing the data of Kochi city which is part of Kerala state. Our analysis is targeted at localities within 30km of Kochi city. We are making using of Foursquare APIs to get details of the venues in Kochi city and Zomato API is used for extracting the restaurant details, price range, user rating, category etc. \n    Using the name, latitude and longitude values obtained from the Foursquare API, we are using Zomato search API to fetch data from its database. The Zomato API allows to find only restaurants based on a search criteria using the name, latitude, longitude, etc.\n\n    Various data cleaning methods are adopted here to get the final dataset.From Foursquare API , the following details of each locaities is retrieved:\n* **Name:** The name of the venue \n* **Category:** The category type as defined by the Foursqaure API\n* **Latitude:** The latitude value of the venue\n* **Longitude:** The longitude value of the venue.\n\n    From Zomato API, the following details of each restaurant is retrieved: \n* **Name:** The name of the restaurant\n* **Locality:** The locality of the restaurant\n* **Aggregate Rating:** The average rating of the restaurant given be users\n* **Price range:** The price ranges of the restaurant \n* **Average cost for two:** The average cost for two people dining at the restaurant\n* **Address**: Address of the resturants\n* **Review count**: Total user rating count for a specific resturant\n* **Latitude:** The latitude value of the restaurant\n* **Longitude:** The longitude value of the restaurant\n* **City:** City in which resturant belongs to \n\n## 3. Methodology\n    \n    Geolocator is used for finding the lattitude and longitude value of the Kochi city. Folium library is used for reterieving the map of Kochi City."
        },
        {
            "cell_type": "code",
            "execution_count": null,
            "metadata": {},
            "outputs": [
                {
                    "name": "stdout",
                    "output_type": "stream",
                    "text": "Solving environment: - "
                }
            ],
            "source": "import numpy as np # library to handle data in a vectorized manner\n\nimport pandas as pd # library for data analsysis\npd.set_option('display.max_columns', None)\npd.set_option('display.max_rows', None)\n\nimport json # library to handle JSON files\n\n#!conda install -c conda-forge geopy --yes # uncomment this line if you haven't completed the Foursquare API lab\nfrom geopy.geocoders import Nominatim # convert an address into latitude and longitude values\n\nimport requests # library to handle requests\nfrom pandas.io.json import json_normalize # tranform JSON file into a pandas dataframe\n\n# Matplotlib and associated plotting modules\nimport matplotlib.cm as cm\nimport matplotlib.colors as colors\n\n# import k-means from clustering stage\nfrom sklearn.cluster import KMeans\n\n!conda install -c conda-forge folium=0.5.0 --yes # uncomment this line if you haven't completed the Foursquare API lab\nimport folium # map rendering library\n\nprint('Libraries imported.')"
        },
        {
            "cell_type": "code",
            "execution_count": null,
            "metadata": {},
            "outputs": [],
            "source": "address = 'Kochi, Kerala'\n\ngeolocator = Nominatim(user_agent=\"ny_explorer\")\nlocation = geolocator.geocode(address)\nlatitude = location.latitude\nlongitude = location.longitude\nprint('The geograpical coordinate of  kochi City are {}, {}.'.format(latitude, longitude))"
        },
        {
            "cell_type": "code",
            "execution_count": null,
            "metadata": {},
            "outputs": [],
            "source": "# create map of Kochi using latitude and longitude values\nkochi_map = folium.Map(location=[latitude, longitude], zoom_start=12)"
        },
        {
            "cell_type": "code",
            "execution_count": null,
            "metadata": {},
            "outputs": [],
            "source": "kochi_map"
        },
        {
            "cell_type": "markdown",
            "metadata": {},
            "source": "Define Foursquare Credentials and Version"
        },
        {
            "cell_type": "code",
            "execution_count": null,
            "metadata": {},
            "outputs": [],
            "source": "CLIENT_ID = 'I32HE3AL43MTDKD4VBCKE0SZYVTA4EUR4KSHSVH30NT33KJO' # your Foursquare ID\nCLIENT_SECRET = '21DSPVZQRUT5KG1MDQYUPAQ1JMGFHCJTJNITA4YD3C2EWUZD' # your Foursquare Secret\nVERSION = '20180605' # Foursquare API version\n\nprint('Your credentails:')\nprint('CLIENT_ID: ' + CLIENT_ID)\nprint('CLIENT_SECRET:' + CLIENT_SECRET)"
        },
        {
            "cell_type": "markdown",
            "metadata": {},
            "source": "Now, let's get the top venues  in Kochi City within a radius of 30 Kms"
        },
        {
            "cell_type": "code",
            "execution_count": null,
            "metadata": {},
            "outputs": [],
            "source": "def get_foursquare_api (offset):\n    LIMIT = 100\n    radius = 30000\n    url = 'https://api.foursquare.com/v2/venues/explore?&client_id={}&client_secret={}&v={}&ll={},{}&radius={}&limit={}&offset={}'.format(\n        CLIENT_ID, \n        CLIENT_SECRET, \n        VERSION, \n        latitude, \n        longitude, \n        radius, \n        LIMIT,\n        offset)\n    results = requests.get(url).json()\n    return results"
        },
        {
            "cell_type": "code",
            "execution_count": null,
            "metadata": {},
            "outputs": [],
            "source": "#Sample API call\nresults = get_foursquare_api (100)"
        },
        {
            "cell_type": "code",
            "execution_count": null,
            "metadata": {},
            "outputs": [],
            "source": "# function that extracts the category of the venue\ndef get_category_type(row):\n    try:\n        categories_list = row['categories']\n    except:\n        categories_list = row['venue.categories']\n        \n    if len(categories_list) == 0:\n        return None\n    else:\n        return categories_list[0]['name']"
        },
        {
            "cell_type": "markdown",
            "metadata": {},
            "source": "Foursquare API has a limit of fecthing 100 venues at a time and we are using offset for handling this"
        },
        {
            "cell_type": "code",
            "execution_count": null,
            "metadata": {
                "scrolled": true
            },
            "outputs": [],
            "source": "kochi_venues = pd.DataFrame()\noffset = 0\nwhile True:\n    results = get_foursquare_api (offset)\n    venue_len = len(results['response']['groups'][0]['items'])\n    print(\"Venue length is {}\".format(venue_len))\n    venues = results['response']['groups'][0]['items']\n    \n    nearby_venues = json_normalize(venues) # flatten JSON\n\n    # filter columns\n    filtered_columns = ['venue.name', 'venue.categories', 'venue.location.lat', 'venue.location.lng']\n    nearby_venues =nearby_venues.loc[:, filtered_columns]\n\n    # filter the category for each row\n    nearby_venues['venue.categories'] = nearby_venues.apply(get_category_type, axis=1)\n\n    # clean columns\n    nearby_venues.columns = [col.split(\".\")[-1] for col in nearby_venues.columns]\n\n    kochi_venues = kochi_venues.append(nearby_venues, ignore_index = True)\n    if venue_len < 100:\n        break\n    else:\n        offset = offset + 100\n        "
        },
        {
            "cell_type": "code",
            "execution_count": null,
            "metadata": {},
            "outputs": [],
            "source": "print('{} venues were returned by Foursquare.'.format(kottayam_venues.shape[0]))"
        },
        {
            "cell_type": "code",
            "execution_count": null,
            "metadata": {},
            "outputs": [],
            "source": "# add markers to map\nfor lat, lng, label in zip(kochi_venues['lat'], kochi_venues['lng'], kochi_venues['name']):\n    label = folium.Popup(label, parse_html=True)\n    folium.CircleMarker(\n        [lat, lng],\n        radius=5,\n        popup=label,\n        color='blue',\n        fill=True,\n        fill_color='#3186cc',\n        fill_opacity=0.7,\n        parse_html=False).add_to(kochi_map)  \nkochi_map"
        },
        {
            "cell_type": "markdown",
            "metadata": {},
            "source": "### Zomato API call\n    Let us first define the user-key generated from the zomato developer account\n"
        },
        {
            "cell_type": "code",
            "execution_count": null,
            "metadata": {},
            "outputs": [],
            "source": "headers = {'user-key': '36a42554f93b2bd1a4dad82816dd9981'}"
        },
        {
            "cell_type": "code",
            "execution_count": null,
            "metadata": {
                "scrolled": true
            },
            "outputs": [],
            "source": "# Sample API call\nurl = 'https://developers.zomato.com/api/v2.1/categories'\nprint(url)\nzomato_results = requests.get(url, headers=headers).json()\nzomato_results"
        },
        {
            "cell_type": "markdown",
            "metadata": {},
            "source": "Using the Zomato search API for fecthing the resturants corresponding to a venue and its lattitude and longitude values\n"
        },
        {
            "cell_type": "code",
            "execution_count": null,
            "metadata": {},
            "outputs": [],
            "source": "kochi_rest = pd.DataFrame()\nfor ind in kochi_venues.index: \n    url = ('https://developers.zomato.com/api/v2.1/search?q={}' + \n          '&start=0&count=20&lat={}&lon={}&sort=real_distance').format(kochi_venues['name'][ind], kochi_venues['lat'][ind], kochi_venues['lng'][ind])\n    result = requests.get(url, headers = headers).json()\n    print(\"Zomato details of venue {}\".format(kochi_venues['name'][ind]))\n    nearby_rest = json_normalize(result['restaurants'])\n    kochi_rest = kochi_rest.append(nearby_rest, ignore_index = True)  "
        },
        {
            "cell_type": "code",
            "execution_count": null,
            "metadata": {},
            "outputs": [],
            "source": "#Let us save the datas to csv file as zomato REST API has daily REST call limit\nkochi_rest.to_csv('/home/dsxuser/work/kochi_resturant.csv')"
        },
        {
            "cell_type": "code",
            "execution_count": null,
            "metadata": {},
            "outputs": [],
            "source": "# filter columns\nfiltered_columns = ['restaurant.name', 'restaurant.location.latitude', 'restaurant.location.longitude', 'restaurant.location.address', 'restaurant.location.city', 'restaurant.location.locality', 'restaurant.average_cost_for_two', 'restaurant.all_reviews_count', 'restaurant.price_range', 'restaurant.user_rating.aggregate_rating']\nkochi_rest =kochi_rest.loc[:, filtered_columns]\n\n# clean columns\nkochi_rest.columns = [col.split(\".\")[-1] for col in kochi_rest.columns]\n"
        },
        {
            "cell_type": "code",
            "execution_count": null,
            "metadata": {},
            "outputs": [],
            "source": "kochi_rest['name'].value_counts()"
        },
        {
            "cell_type": "markdown",
            "metadata": {},
            "source": "## Data Cleaning"
        },
        {
            "cell_type": "markdown",
            "metadata": {},
            "source": "Removing the duplicate resturant name from the data frame"
        },
        {
            "cell_type": "code",
            "execution_count": null,
            "metadata": {},
            "outputs": [],
            "source": "# dropping duplicate values \nkochi_rest.drop_duplicates(keep=False,inplace=True)"
        },
        {
            "cell_type": "code",
            "execution_count": null,
            "metadata": {},
            "outputs": [],
            "source": "kochi_rest.dtypes"
        },
        {
            "cell_type": "code",
            "execution_count": null,
            "metadata": {},
            "outputs": [],
            "source": "# Converting the object format of lattitude, longitude and aggregate_rating to real numbers\nconvert_dict = {'latitude': float, \n                'longitude': float,\n                'aggregate_rating': float\n               } \nkochi_filtered_venues = kochi_rest.astype(convert_dict) "
        },
        {
            "cell_type": "markdown",
            "metadata": {},
            "source": "Let us remove the rows which is having review count as zero and customer review rating as zero, inorder to make our analysis easier"
        },
        {
            "cell_type": "code",
            "execution_count": null,
            "metadata": {},
            "outputs": [],
            "source": "kochi_filtered_venues = kochi_filtered_venues[(kochi_filtered_venues['all_reviews_count'] > 0) & (kochi_filtered_venues['aggregate_rating'] > 0)].reset_index()\n"
        },
        {
            "cell_type": "code",
            "execution_count": null,
            "metadata": {},
            "outputs": [],
            "source": "kochi_filtered_venues = kochi_filtered_venues.drop(['index'], axis=1)\n"
        },
        {
            "cell_type": "code",
            "execution_count": null,
            "metadata": {
                "scrolled": true
            },
            "outputs": [],
            "source": "kochi_filtered_venues"
        },
        {
            "cell_type": "markdown",
            "metadata": {},
            "source": "### Data Analysis"
        },
        {
            "cell_type": "markdown",
            "metadata": {},
            "source": "#### A. Number of Restaurants in each Locality"
        },
        {
            "cell_type": "code",
            "execution_count": null,
            "metadata": {
                "scrolled": false
            },
            "outputs": [],
            "source": "import matplotlib.pyplot as plt\nimport matplotlib.cm as cm\nimport matplotlib.colors as colors\n\n\nresturant_distribution = kochi_filtered_venues['locality'].value_counts()\ncolors = cm.rainbow(np.linspace(0, 1, len(resturant_distribution.index)))\nplt.figure(figsize = (20, 12))\nplt.xticks(rotation = 90)\nplt.xlabel(\"Locality\", fontsize = 16)\nplt.ylabel(\"Count\", fontsize = 16)\nplt.title(\"Count of Resturants in each locality\", fontsize = 16)\nplt.bar(resturant_distribution.index, resturant_distribution.values, color = colors)"
        },
        {
            "cell_type": "markdown",
            "metadata": {},
            "source": "#### B. Average price for two in restaurants in each locality:"
        },
        {
            "cell_type": "code",
            "execution_count": null,
            "metadata": {},
            "outputs": [],
            "source": "price_for_two = kochi_filtered_venues[['locality', 'average_cost_for_two']]\ncost_disctribution = price_for_two.groupby(['locality']).mean()\n"
        },
        {
            "cell_type": "code",
            "execution_count": null,
            "metadata": {},
            "outputs": [],
            "source": "colors = cm.rainbow(np.linspace(0, 1, len(cost_disctribution.index)))\nplt.figure(figsize = (20, 12))\nplt.xticks(rotation = 90)\nplt.xlabel(\"Locality\", fontsize = 16)\nplt.ylabel(\"Mean cost for two\", fontsize = 16)\nplt.title(\"Mean cost for two in each locality\", fontsize = 16)\nplt.bar(cost_disctribution.index, cost_disctribution['average_cost_for_two'], color = colors)"
        },
        {
            "cell_type": "markdown",
            "metadata": {},
            "source": "#### C.Mean of aggregate ratings of resturants in each localities"
        },
        {
            "cell_type": "code",
            "execution_count": null,
            "metadata": {},
            "outputs": [],
            "source": "agg_rating = kochi_filtered_venues[['locality', 'aggregate_rating']]\nagg_distribution = agg_rating.groupby(['locality']).mean()"
        },
        {
            "cell_type": "code",
            "execution_count": null,
            "metadata": {},
            "outputs": [],
            "source": "colors = cm.rainbow(np.linspace(0, 1, len(agg_distribution.index)))\nplt.figure(figsize = (20, 12))\nplt.xticks(rotation = 90)\nplt.xlabel(\"Locality\", fontsize = 16)\nplt.ylabel(\"Mean aggregate rating\", fontsize = 16)\nplt.title(\"Mean aggregate ratings in each locality\", fontsize = 16)\nplt.bar(agg_distribution.index, agg_distribution['aggregate_rating'], color = colors)"
        },
        {
            "cell_type": "code",
            "execution_count": null,
            "metadata": {},
            "outputs": [],
            "source": "rest_rating = kochi_filtered_venues['aggregate_rating'].value_counts().sort_index()\nplt.figure(figsize = (20, 12))\nplt.bar(rest_rating.index, rest_rating.values, color = cm.rainbow(np.linspace(0, 1, len(rest_rating.index))))\nplt.xlabel(\"Aggregate Rating\", fontsize = 16)\nplt.ylabel(\"Count\", fontsize = 16)\nplt.title(\"Count of localities\", fontsize = 16)"
        },
        {
            "cell_type": "markdown",
            "metadata": {},
            "source": "The above bar diagram shows that most of localities in Kochi has **ratings of 3.5**"
        },
        {
            "cell_type": "code",
            "execution_count": null,
            "metadata": {
                "scrolled": false
            },
            "outputs": [],
            "source": "# create map of Kochi using latitude and longitude values\nkochi_rest_map = folium.Map(location=[latitude, longitude], zoom_start=12)\nbins = [1.0, 2.0, 3.0, 4.0, 5.0]\nlabels = ['Very Low', 'Low', 'Good', 'Very good']\nkochi_filtered_venues['rating_bin'] = pd.cut(kochi_filtered_venues['aggregate_rating'], bins = bins, labels = labels, include_lowest = True)"
        },
        {
            "cell_type": "code",
            "execution_count": null,
            "metadata": {},
            "outputs": [],
            "source": "color_map = {'Very Low': 'red', 'Low': 'orange', 'Good': 'green', 'Very good': 'darkgreen'}"
        },
        {
            "cell_type": "code",
            "execution_count": null,
            "metadata": {
                "scrolled": false
            },
            "outputs": [],
            "source": "# add markers to map\nfor locality, address, latitude, longitude, rating_bin in zip(kochi_filtered_venues['locality'], \n                                                          kochi_filtered_venues['address'], \n                                                          kochi_filtered_venues['latitude'], \n                                                          kochi_filtered_venues['longitude'], \n                                                          kochi_filtered_venues['rating_bin']):\n    label = '{}, {}'.format(locality, address)\n    label = folium.Popup(label, parse_html = True)\n    folium.Marker(\n        [latitude, longitude],\n        icon = folium.Icon(color = color_map[rating_bin]),\n        popup = label).add_to(kochi_rest_map)  \n\nkochi_rest_map.save(\"/home/dsxuser/work/kochi_rest_map.html\")\nkochi_rest_map"
        },
        {
            "cell_type": "markdown",
            "metadata": {},
            "source": "## Clustering"
        },
        {
            "cell_type": "markdown",
            "metadata": {},
            "source": "K-means clustering algorithm is used for clustering the localities based on price for two and aggregate rating"
        },
        {
            "cell_type": "code",
            "execution_count": null,
            "metadata": {},
            "outputs": [],
            "source": "\nfrom sklearn.cluster import KMeans\n\nNO_OF_CLUSTERS = 3\n\nkochi_cluster = kochi_filtered_venues.drop(['name', 'address', 'city', 'locality', 'all_reviews_count', 'price_range', 'rating_bin'], 1)\nkMeans = KMeans(n_clusters = NO_OF_CLUSTERS, random_state = 0).fit(kochi_cluster)\nkochi_filtered_venues.insert(0, 'cluster_labels', kMeans.labels_)\n"
        },
        {
            "cell_type": "code",
            "execution_count": null,
            "metadata": {},
            "outputs": [],
            "source": "kochi_cluster_map = folium.Map(location = [latitude, longitude], zoom_start = 12)\ncolor_map = { 0: 'green', 1: 'orange', 2: 'blue'}\n\n# add venues to the map\nmarkers_colors = []\nfor venue, address, cluster, latitude, longitude in zip(kochi_filtered_venues['locality'], \n                                                        kochi_filtered_venues['address'], \n                                                        kochi_filtered_venues['cluster_labels'], \n                                                        kochi_filtered_venues['latitude'], \n                                                        kochi_filtered_venues['longitude']):\n    label = folium.Popup(str(venue) + ', ' + str(address), parse_html = True)\n    folium.CircleMarker(\n        [latitude, longitude],\n        radius = 5,\n        popup = label,\n        color = color_map[cluster],\n        fill = True,\n        fill_color = color_map[cluster],\n        fill_opacity = 0.7).add_to(kochi_cluster_map)\n\n# add cluster centers to the map\nfor index, cluster in enumerate(kMeans.cluster_centers_):\n    latitude = cluster[0]\n    longitude = cluster[1]\n    label = folium.Popup(\"Cluster: \" + str(index), parse_html = True)\n    folium.CircleMarker(\n        [latitude, longitude],\n        radius = 10,\n        popup = label,\n        color = color_map[index],\n        fill = True,\n        fill_color = color_map[index],\n        fill_opacity = 0.7).add_to(kochi_cluster_map)\n\nkochi_cluster_map.save(\"/home/dsxuser/work/kochi_cluster_map.html\")\nkochi_cluster_map"
        },
        {
            "cell_type": "markdown",
            "metadata": {},
            "source": "#### Cluster 1 details\n"
        },
        {
            "cell_type": "code",
            "execution_count": null,
            "metadata": {
                "scrolled": false
            },
            "outputs": [],
            "source": "cluster_1 = kochi_filtered_venues[kochi_filtered_venues['cluster_labels'] == 0]\nprint(\"Cluster -1 Analysis\")\ncluster_1.reset_index(drop = True)"
        },
        {
            "cell_type": "code",
            "execution_count": null,
            "metadata": {},
            "outputs": [],
            "source": "print(\"Mean of cluster -1 for average_cost_for_two {} aggregate_rating {}\".format(cluster_1['average_cost_for_two'].mean(), cluster_1['aggregate_rating'].mean()))\n"
        },
        {
            "cell_type": "code",
            "execution_count": null,
            "metadata": {},
            "outputs": [],
            "source": "cluster_2 = kochi_filtered_venues[kochi_filtered_venues['cluster_labels'] == 1]\nprint(\"Cluster -2 Analysis\")\ncluster_2.reset_index(drop = True)"
        },
        {
            "cell_type": "code",
            "execution_count": null,
            "metadata": {},
            "outputs": [],
            "source": "print(\"Mean of cluster -2 for average_cost_for_two {} aggregate_rating {}\".format(cluster_2['average_cost_for_two'].mean(), cluster_2['aggregate_rating'].mean()))"
        },
        {
            "cell_type": "code",
            "execution_count": null,
            "metadata": {},
            "outputs": [],
            "source": "cluster_3 = kochi_filtered_venues[kochi_filtered_venues['cluster_labels'] == 2]\nprint(\"Cluster -3 Analysis\")\ncluster_3.reset_index(drop = True)\nprint(\"Mean of cluster -3 for average_cost_for_two {} aggregate_rating {}\".format(cluster_3['average_cost_for_two'].mean(), cluster_3['aggregate_rating'].mean()))"
        },
        {
            "cell_type": "markdown",
            "metadata": {},
            "source": "## 4. RESULTS AND DISCUSSIONS"
        },
        {
            "cell_type": "markdown",
            "metadata": {},
            "source": "The data analysis performed here helps visitor to take good decsision based on there budget and preferences while visiting **Kochi, Kerala**. Below are the some of the conclusion which we can derived based on above analysis.\n* Resturant counts are more in area close to **Edappally** and **Kaloor**\n* The most costlier resturant in Kochi are in locality **Kochi Marriott Hotel Edappally**, **Fargrant FortKochi and** **Malabar Resorts & Spa, Wellingdon Island**\n* **Kaloor** locality finds to be more budget friendly, has good eateries count and has good aggregate ratings as well so good place to visit\n\nBelow are the conclusion we can derive from the K-means clustering algorithm\n* Localities coming under cluster-2 is having **avg cost for two = 306 and rating = 3.48**\n* Localities coming under cluster-1 is having **avg cost for two = 807 and rating = 3.68**\n* Localities coming under cluster-3 is having **avg cost for two = 1930 and rating = 3.71**\n\nMost of the localities in centre of kochi city is falling under cluster-2. Most expensive localities in Kochi has good customer ratings."
        },
        {
            "cell_type": "markdown",
            "metadata": {},
            "source": "## 5. CONCLUSION"
        },
        {
            "cell_type": "markdown",
            "metadata": {},
            "source": "In this project we are making use of Foursquare and Zomato APIs to explore insight into the eateries in Kochi city. \nThe data analysis performed here can be used by the new visitors \nwho likes to visit the Kochi and plan their budget based on the data available here. \nThe data can be used by the Business people who has plan to start the bussiness as it provides \nthe cluster distribution of eateries and its ratings as well as price for two people. The locality **Kaloor**\nfinds to be budget friendly and most of the eateries avaialble in Kochi has good customer rating. So its a reasonable\nchoice to visit Kochi city\n"
        },
        {
            "cell_type": "code",
            "execution_count": null,
            "metadata": {},
            "outputs": [],
            "source": "!pwd"
        },
        {
            "cell_type": "code",
            "execution_count": null,
            "metadata": {},
            "outputs": [],
            "source": ""
        }
    ],
    "metadata": {
        "kernelspec": {
            "display_name": "Python 3.6",
            "language": "python",
            "name": "python3"
        },
        "language_info": {
            "codemirror_mode": {
                "name": "ipython",
                "version": 3
            },
            "file_extension": ".py",
            "mimetype": "text/x-python",
            "name": "python",
            "nbconvert_exporter": "python",
            "pygments_lexer": "ipython3",
            "version": "3.6.9"
        }
    },
    "nbformat": 4,
    "nbformat_minor": 1
}